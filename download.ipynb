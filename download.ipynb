{
 "cells": [
  {
   "cell_type": "code",
   "execution_count": 1,
   "metadata": {},
   "outputs": [],
   "source": [
    "import requests\n",
    "import datetime\n",
    "import pandas as pd\n",
    "import pickle\n",
    "import time\n",
    "import os\n",
    "\n",
    "with open('doc_urls.pickle', 'rb') as f:\n",
    "    doc_urls = pickle.load(f)\n",
    "\n",
    "base_url = \"https://files.zillowstatic.com/research/public_csvs/\"\n",
    "alt_base_url = \"https://files.zillowstatic.com/research/public_v2/\"\n",
    "end_url = f\"?t={int(datetime.datetime.now().timestamp())}\"\n",
    "\n",
    "Geographies = [\n",
    "    \"Metro\",\n",
    "    \"State\",\n",
    "    \"County\",\n",
    "    \"City\",\n",
    "    \"Zip\",\n",
    "    \"Neighborhood\"\n",
    "]\n",
    "\n",
    "if not os.path.isdir('./data/'):\n",
    "    print('Creating directory: ' + './data/')\n",
    "    os.mkdir('./data/')\n",
    "\n",
    "def download_file(url, path):\n",
    "    response = requests.get(url)\n",
    "    if response.status_code != 200:\n",
    "        print(f'Failed to download file with response code {response.status_code}: ' + url)\n",
    "        return\n",
    "\n",
    "    target_dir = './data/' + path.split('/')[0]\n",
    "    # Open a file in write-binary mode\n",
    "    if not os.path.isdir(target_dir):\n",
    "        print('Creating directory: ' + target_dir)\n",
    "        os.mkdir(target_dir)\n",
    "\n",
    "    with open(('./data/' + path), 'wb') as file:\n",
    "        # Write the content of the response to the file\n",
    "        file.write(response.content)\n",
    "\n",
    "    print('Downloaded file: ./data/' + path)\n",
    "    \n",
    "    df = pd.read_csv(('./data/' + path))\n",
    "    if len(df) == 0:\n",
    "        print('Empty file, Removing: data/' + path)\n",
    "        os.remove(('./data/' + path))\n",
    "    return\n",
    "    "
   ]
  },
  {
   "cell_type": "code",
   "execution_count": null,
   "metadata": {},
   "outputs": [],
   "source": [
    "for description, url in doc_urls.items():\n",
    "    for geo in Geographies:\n",
    "        try:\n",
    "            _url = base_url + url.replace('Metro', geo) + end_url\n",
    "            print(f\"Downloading {description} for {geo} with url {_url}\")\n",
    "            download_file(_url, url.replace('Metro', geo))\n",
    "        except:\n",
    "            print(f\"Failed to download {description} for {geo} with url {_url}\")\n",
    "            try:\n",
    "                _url = alt_base_url + url.replace('Metro', geo) + end_url\n",
    "                print(f\"Downloading {description} for {geo} with url {_url}\")\n",
    "                download_file(_url, url.replace('Metro', geo))\n",
    "            except Exception as e:\n",
    "                print(f\"Failed to download {description} for {geo} with url {_url}\")\n",
    "                print(f\"Error: {e}\")\n",
    "                continue\n",
    "    time.sleep(0.01)"
   ]
  }
 ],
 "metadata": {
  "kernelspec": {
   "display_name": "Python 3",
   "language": "python",
   "name": "python3"
  },
  "language_info": {
   "codemirror_mode": {
    "name": "ipython",
    "version": 3
   },
   "file_extension": ".py",
   "mimetype": "text/x-python",
   "name": "python",
   "nbconvert_exporter": "python",
   "pygments_lexer": "ipython3",
   "version": "3.12.2"
  }
 },
 "nbformat": 4,
 "nbformat_minor": 2
}
